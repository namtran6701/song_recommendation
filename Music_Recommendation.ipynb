{
 "cells": [
  {
   "cell_type": "markdown",
   "metadata": {},
   "source": [
    "# Music Recommendation"
   ]
  },
  {
   "cell_type": "markdown",
   "metadata": {},
   "source": [
    "## Table of Contents"
   ]
  },
  {
   "cell_type": "markdown",
   "metadata": {},
   "source": [
    "1. Data Preprocessing \n",
    "\n",
    "2. Data Exploration \n",
    "\n",
    "3. Model Building\n",
    "\n",
    "4. Making Recommendations"
   ]
  },
  {
   "cell_type": "markdown",
   "metadata": {},
   "source": [
    "---"
   ]
  },
  {
   "cell_type": "markdown",
   "metadata": {},
   "source": [
    "## 1. Data Preprocessing"
   ]
  },
  {
   "cell_type": "code",
   "execution_count": 86,
   "metadata": {},
   "outputs": [],
   "source": [
    "import pandas as pd\n",
    "import numpy as np\n",
    "import matplotlib.pyplot as plt\n",
    "import seaborn as sns \n",
    "# -- \n",
    "from surprise import Dataset, SVD\n",
    "from surprise.model_selection import cross_validate\n",
    "from surprise.model_selection import train_test_split\n",
    "\n",
    "from surprise import Dataset, Reader\n",
    "from surprise.model_selection import train_test_split\n",
    "import pandas as pd\n",
    "from surprise import accuracy\n",
    "from surprise import BaselineOnly\n",
    "from surprise.model_selection import GridSearchCV"
   ]
  },
  {
   "cell_type": "code",
   "execution_count": 87,
   "metadata": {},
   "outputs": [
    {
     "data": {
      "text/plain": [
       "100000"
      ]
     },
     "execution_count": 87,
     "metadata": {},
     "output_type": "execute_result"
    }
   ],
   "source": [
    "# load the user dataset\n",
    "column_names = ['user_id', 'song_id', 'play_count']\n",
    "df = pd.read_csv(\"kaggle_visible_evaluation_triplets.txt\", sep='\\t', names=column_names)\n",
    "df.head()\n",
    "df = df.sample(100000, random_state=42)\n",
    "len(df)"
   ]
  },
  {
   "cell_type": "code",
   "execution_count": 88,
   "metadata": {},
   "outputs": [
    {
     "data": {
      "text/html": [
       "<div>\n",
       "<style scoped>\n",
       "    .dataframe tbody tr th:only-of-type {\n",
       "        vertical-align: middle;\n",
       "    }\n",
       "\n",
       "    .dataframe tbody tr th {\n",
       "        vertical-align: top;\n",
       "    }\n",
       "\n",
       "    .dataframe thead th {\n",
       "        text-align: right;\n",
       "    }\n",
       "</style>\n",
       "<table border=\"1\" class=\"dataframe\">\n",
       "  <thead>\n",
       "    <tr style=\"text-align: right;\">\n",
       "      <th></th>\n",
       "      <th>user_id</th>\n",
       "      <th>song_id</th>\n",
       "      <th>play_count</th>\n",
       "    </tr>\n",
       "  </thead>\n",
       "  <tbody>\n",
       "    <tr>\n",
       "      <th>0</th>\n",
       "      <td>namtr</td>\n",
       "      <td>SOJBAOJ12A8AE47050</td>\n",
       "      <td>10</td>\n",
       "    </tr>\n",
       "    <tr>\n",
       "      <th>1</th>\n",
       "      <td>namtr</td>\n",
       "      <td>SODFGUC12AB0184AF7</td>\n",
       "      <td>10</td>\n",
       "    </tr>\n",
       "    <tr>\n",
       "      <th>2</th>\n",
       "      <td>namtr</td>\n",
       "      <td>SOXRWWP127CF8DC9B2</td>\n",
       "      <td>10</td>\n",
       "    </tr>\n",
       "    <tr>\n",
       "      <th>3</th>\n",
       "      <td>namtr</td>\n",
       "      <td>SOLWGXS12A6701EDB5</td>\n",
       "      <td>10</td>\n",
       "    </tr>\n",
       "    <tr>\n",
       "      <th>4</th>\n",
       "      <td>namtr</td>\n",
       "      <td>SODGVGW12AC9075A8D</td>\n",
       "      <td>10</td>\n",
       "    </tr>\n",
       "    <tr>\n",
       "      <th>5</th>\n",
       "      <td>boshen</td>\n",
       "      <td>SOBONKR12A58A7A7E0</td>\n",
       "      <td>10</td>\n",
       "    </tr>\n",
       "    <tr>\n",
       "      <th>6</th>\n",
       "      <td>boshen</td>\n",
       "      <td>SOVDSJC12A58A7A271</td>\n",
       "      <td>10</td>\n",
       "    </tr>\n",
       "    <tr>\n",
       "      <th>7</th>\n",
       "      <td>boshen</td>\n",
       "      <td>SOBRHVR12A8C133F35</td>\n",
       "      <td>10</td>\n",
       "    </tr>\n",
       "    <tr>\n",
       "      <th>8</th>\n",
       "      <td>boshen</td>\n",
       "      <td>SOMGVYU12A8C1314FF</td>\n",
       "      <td>10</td>\n",
       "    </tr>\n",
       "    <tr>\n",
       "      <th>9</th>\n",
       "      <td>boshen</td>\n",
       "      <td>SOVLNXV12A6D4F706E</td>\n",
       "      <td>10</td>\n",
       "    </tr>\n",
       "  </tbody>\n",
       "</table>\n",
       "</div>"
      ],
      "text/plain": [
       "  user_id             song_id  play_count\n",
       "0   namtr  SOJBAOJ12A8AE47050          10\n",
       "1   namtr  SODFGUC12AB0184AF7          10\n",
       "2   namtr  SOXRWWP127CF8DC9B2          10\n",
       "3   namtr  SOLWGXS12A6701EDB5          10\n",
       "4   namtr  SODGVGW12AC9075A8D          10\n",
       "5  boshen  SOBONKR12A58A7A7E0          10\n",
       "6  boshen  SOVDSJC12A58A7A271          10\n",
       "7  boshen  SOBRHVR12A8C133F35          10\n",
       "8  boshen  SOMGVYU12A8C1314FF          10\n",
       "9  boshen  SOVLNXV12A6D4F706E          10"
      ]
     },
     "execution_count": 88,
     "metadata": {},
     "output_type": "execute_result"
    }
   ],
   "source": [
    "# my songs dataset \n",
    "mydf = pd.read_csv(\"my_songs.csv\", sep = '\\t')\n",
    "mydf"
   ]
  },
  {
   "cell_type": "code",
   "execution_count": 89,
   "metadata": {},
   "outputs": [
    {
     "data": {
      "text/html": [
       "<div>\n",
       "<style scoped>\n",
       "    .dataframe tbody tr th:only-of-type {\n",
       "        vertical-align: middle;\n",
       "    }\n",
       "\n",
       "    .dataframe tbody tr th {\n",
       "        vertical-align: top;\n",
       "    }\n",
       "\n",
       "    .dataframe thead th {\n",
       "        text-align: right;\n",
       "    }\n",
       "</style>\n",
       "<table border=\"1\" class=\"dataframe\">\n",
       "  <thead>\n",
       "    <tr style=\"text-align: right;\">\n",
       "      <th></th>\n",
       "      <th>user_id</th>\n",
       "      <th>song_id</th>\n",
       "      <th>play_count</th>\n",
       "    </tr>\n",
       "  </thead>\n",
       "  <tbody>\n",
       "    <tr>\n",
       "      <th>977672</th>\n",
       "      <td>d131ba7aca253a01adf49d47b0b60736e3bcd578</td>\n",
       "      <td>SOJZUBF12A8C13B5D2</td>\n",
       "      <td>1</td>\n",
       "    </tr>\n",
       "    <tr>\n",
       "      <th>447130</th>\n",
       "      <td>8640529f5f21ddc41db0185d36f81d39ccf70909</td>\n",
       "      <td>SOFFEUI12A8C142F4E</td>\n",
       "      <td>2</td>\n",
       "    </tr>\n",
       "    <tr>\n",
       "      <th>943690</th>\n",
       "      <td>ed4581c5d05af39780b99eea3dad480be186ec6f</td>\n",
       "      <td>SOYAIPB12A8C143D84</td>\n",
       "      <td>1</td>\n",
       "    </tr>\n",
       "    <tr>\n",
       "      <th>592194</th>\n",
       "      <td>25ad9ea0366e4e39ac188266a73e4e643538108d</td>\n",
       "      <td>SOWMTMB12A6D4F81DE</td>\n",
       "      <td>1</td>\n",
       "    </tr>\n",
       "    <tr>\n",
       "      <th>540101</th>\n",
       "      <td>9ba7a75bcc0016f62e819551d02e5a0a01e0e632</td>\n",
       "      <td>SOVIZNF12AF72A710A</td>\n",
       "      <td>1</td>\n",
       "    </tr>\n",
       "  </tbody>\n",
       "</table>\n",
       "</div>"
      ],
      "text/plain": [
       "                                         user_id             song_id  \\\n",
       "977672  d131ba7aca253a01adf49d47b0b60736e3bcd578  SOJZUBF12A8C13B5D2   \n",
       "447130  8640529f5f21ddc41db0185d36f81d39ccf70909  SOFFEUI12A8C142F4E   \n",
       "943690  ed4581c5d05af39780b99eea3dad480be186ec6f  SOYAIPB12A8C143D84   \n",
       "592194  25ad9ea0366e4e39ac188266a73e4e643538108d  SOWMTMB12A6D4F81DE   \n",
       "540101  9ba7a75bcc0016f62e819551d02e5a0a01e0e632  SOVIZNF12AF72A710A   \n",
       "\n",
       "        play_count  \n",
       "977672           1  \n",
       "447130           2  \n",
       "943690           1  \n",
       "592194           1  \n",
       "540101           1  "
      ]
     },
     "execution_count": 89,
     "metadata": {},
     "output_type": "execute_result"
    }
   ],
   "source": [
    "# merge my songs with the user dataset\n",
    "df = pd.concat([df,mydf],axis=0)\n",
    "df.head()"
   ]
  },
  {
   "cell_type": "code",
   "execution_count": 90,
   "metadata": {},
   "outputs": [
    {
     "data": {
      "text/html": [
       "<div>\n",
       "<style scoped>\n",
       "    .dataframe tbody tr th:only-of-type {\n",
       "        vertical-align: middle;\n",
       "    }\n",
       "\n",
       "    .dataframe tbody tr th {\n",
       "        vertical-align: top;\n",
       "    }\n",
       "\n",
       "    .dataframe thead th {\n",
       "        text-align: right;\n",
       "    }\n",
       "</style>\n",
       "<table border=\"1\" class=\"dataframe\">\n",
       "  <thead>\n",
       "    <tr style=\"text-align: right;\">\n",
       "      <th></th>\n",
       "      <th>track_id</th>\n",
       "      <th>song_id</th>\n",
       "      <th>artist_name</th>\n",
       "      <th>song</th>\n",
       "    </tr>\n",
       "  </thead>\n",
       "  <tbody>\n",
       "    <tr>\n",
       "      <th>0</th>\n",
       "      <td>TRMMMYQ128F932D901</td>\n",
       "      <td>SOQMMHC12AB0180CB8</td>\n",
       "      <td>Faster Pussy cat</td>\n",
       "      <td>Silent Night</td>\n",
       "    </tr>\n",
       "    <tr>\n",
       "      <th>1</th>\n",
       "      <td>TRMMMKD128F425225D</td>\n",
       "      <td>SOVFVAK12A8C1350D9</td>\n",
       "      <td>Karkkiautomaatti</td>\n",
       "      <td>Tanssi vaan</td>\n",
       "    </tr>\n",
       "    <tr>\n",
       "      <th>2</th>\n",
       "      <td>TRMMMRX128F93187D9</td>\n",
       "      <td>SOGTUKN12AB017F4F1</td>\n",
       "      <td>Hudson Mohawke</td>\n",
       "      <td>No One Could Ever</td>\n",
       "    </tr>\n",
       "    <tr>\n",
       "      <th>3</th>\n",
       "      <td>TRMMMCH128F425532C</td>\n",
       "      <td>SOBNYVR12A8C13558C</td>\n",
       "      <td>Yerba Brava</td>\n",
       "      <td>Si Vos Querés</td>\n",
       "    </tr>\n",
       "    <tr>\n",
       "      <th>4</th>\n",
       "      <td>TRMMMWA128F426B589</td>\n",
       "      <td>SOHSBXH12A8C13B0DF</td>\n",
       "      <td>Der Mystic</td>\n",
       "      <td>Tangle Of Aspens</td>\n",
       "    </tr>\n",
       "  </tbody>\n",
       "</table>\n",
       "</div>"
      ],
      "text/plain": [
       "             track_id             song_id       artist_name               song\n",
       "0  TRMMMYQ128F932D901  SOQMMHC12AB0180CB8  Faster Pussy cat       Silent Night\n",
       "1  TRMMMKD128F425225D  SOVFVAK12A8C1350D9  Karkkiautomaatti        Tanssi vaan\n",
       "2  TRMMMRX128F93187D9  SOGTUKN12AB017F4F1    Hudson Mohawke  No One Could Ever\n",
       "3  TRMMMCH128F425532C  SOBNYVR12A8C13558C       Yerba Brava      Si Vos Querés\n",
       "4  TRMMMWA128F426B589  SOHSBXH12A8C13B0DF        Der Mystic   Tangle Of Aspens"
      ]
     },
     "execution_count": 90,
     "metadata": {},
     "output_type": "execute_result"
    }
   ],
   "source": [
    "# import track dataset \n",
    "df_tracks = pd.read_csv('unique_tracks.txt',\n",
    "                       sep='<SEP>', names=['track_id','song_id','artist_name','song'], engine='python')\n",
    "df_tracks.head()"
   ]
  },
  {
   "cell_type": "code",
   "execution_count": 91,
   "metadata": {},
   "outputs": [
    {
     "data": {
      "text/html": [
       "<div>\n",
       "<style scoped>\n",
       "    .dataframe tbody tr th:only-of-type {\n",
       "        vertical-align: middle;\n",
       "    }\n",
       "\n",
       "    .dataframe tbody tr th {\n",
       "        vertical-align: top;\n",
       "    }\n",
       "\n",
       "    .dataframe thead th {\n",
       "        text-align: right;\n",
       "    }\n",
       "</style>\n",
       "<table border=\"1\" class=\"dataframe\">\n",
       "  <thead>\n",
       "    <tr style=\"text-align: right;\">\n",
       "      <th></th>\n",
       "      <th>user_id</th>\n",
       "      <th>song_id</th>\n",
       "      <th>play_count</th>\n",
       "      <th>track_id</th>\n",
       "      <th>artist_name</th>\n",
       "      <th>song</th>\n",
       "    </tr>\n",
       "  </thead>\n",
       "  <tbody>\n",
       "    <tr>\n",
       "      <th>0</th>\n",
       "      <td>d131ba7aca253a01adf49d47b0b60736e3bcd578</td>\n",
       "      <td>SOJZUBF12A8C13B5D2</td>\n",
       "      <td>1</td>\n",
       "      <td>TRKUNSX128F42952DA</td>\n",
       "      <td>Jason Mraz</td>\n",
       "      <td>After An Afternoon (Eagles Ballroom Live Version)</td>\n",
       "    </tr>\n",
       "    <tr>\n",
       "      <th>1</th>\n",
       "      <td>8640529f5f21ddc41db0185d36f81d39ccf70909</td>\n",
       "      <td>SOFFEUI12A8C142F4E</td>\n",
       "      <td>2</td>\n",
       "      <td>TRGUXUV12903D05329</td>\n",
       "      <td>Joshua Radin</td>\n",
       "      <td>Free Of Me</td>\n",
       "    </tr>\n",
       "    <tr>\n",
       "      <th>2</th>\n",
       "      <td>ed4581c5d05af39780b99eea3dad480be186ec6f</td>\n",
       "      <td>SOYAIPB12A8C143D84</td>\n",
       "      <td>1</td>\n",
       "      <td>TRWDPTD12903D018B5</td>\n",
       "      <td>Justin Timberlake</td>\n",
       "      <td>Cry Me A River</td>\n",
       "    </tr>\n",
       "    <tr>\n",
       "      <th>3</th>\n",
       "      <td>25ad9ea0366e4e39ac188266a73e4e643538108d</td>\n",
       "      <td>SOWMTMB12A6D4F81DE</td>\n",
       "      <td>1</td>\n",
       "      <td>TRZITSJ128F148CF24</td>\n",
       "      <td>Sister Hazel</td>\n",
       "      <td>Happy</td>\n",
       "    </tr>\n",
       "    <tr>\n",
       "      <th>4</th>\n",
       "      <td>9ba7a75bcc0016f62e819551d02e5a0a01e0e632</td>\n",
       "      <td>SOVIZNF12AF72A710A</td>\n",
       "      <td>1</td>\n",
       "      <td>TRHNBHR128F9350E67</td>\n",
       "      <td>The Prodigy</td>\n",
       "      <td>The Big Gundown</td>\n",
       "    </tr>\n",
       "  </tbody>\n",
       "</table>\n",
       "</div>"
      ],
      "text/plain": [
       "                                    user_id             song_id  play_count  \\\n",
       "0  d131ba7aca253a01adf49d47b0b60736e3bcd578  SOJZUBF12A8C13B5D2           1   \n",
       "1  8640529f5f21ddc41db0185d36f81d39ccf70909  SOFFEUI12A8C142F4E           2   \n",
       "2  ed4581c5d05af39780b99eea3dad480be186ec6f  SOYAIPB12A8C143D84           1   \n",
       "3  25ad9ea0366e4e39ac188266a73e4e643538108d  SOWMTMB12A6D4F81DE           1   \n",
       "4  9ba7a75bcc0016f62e819551d02e5a0a01e0e632  SOVIZNF12AF72A710A           1   \n",
       "\n",
       "             track_id        artist_name  \\\n",
       "0  TRKUNSX128F42952DA         Jason Mraz   \n",
       "1  TRGUXUV12903D05329       Joshua Radin   \n",
       "2  TRWDPTD12903D018B5  Justin Timberlake   \n",
       "3  TRZITSJ128F148CF24       Sister Hazel   \n",
       "4  TRHNBHR128F9350E67        The Prodigy   \n",
       "\n",
       "                                                song  \n",
       "0  After An Afternoon (Eagles Ballroom Live Version)  \n",
       "1                                         Free Of Me  \n",
       "2                                     Cry Me A River  \n",
       "3                                              Happy  \n",
       "4                                    The Big Gundown  "
      ]
     },
     "execution_count": 91,
     "metadata": {},
     "output_type": "execute_result"
    }
   ],
   "source": [
    "# Merge\n",
    "merged_df = pd.merge(df, df_tracks.drop_duplicates(['song_id']), how='left', on='song_id')\n",
    "merged_df.head()"
   ]
  },
  {
   "cell_type": "markdown",
   "metadata": {},
   "source": [
    "## 2. Data Exploration"
   ]
  },
  {
   "cell_type": "code",
   "execution_count": 92,
   "metadata": {},
   "outputs": [
    {
     "data": {
      "text/plain": [
       "play_count_binned\n",
       "1     57901\n",
       "2     14665\n",
       "3      6614\n",
       "10     6238\n",
       "5      5050\n",
       "4      3788\n",
       "6      2251\n",
       "7      1527\n",
       "8      1132\n",
       "9       844\n",
       "Name: count, dtype: int64"
      ]
     },
     "execution_count": 92,
     "metadata": {},
     "output_type": "execute_result"
    }
   ],
   "source": [
    "# Define bins and labels\n",
    "bins = [1, 2, 3, 4, 5,6,7,8,9,10, float('inf')]  \n",
    "labels = [1, 2, 3, 4, 5,6,7,8,9,10]  \n",
    "\n",
    "# Bin the 'play_count' column\n",
    "merged_df['play_count_binned'] = pd.cut(merged_df['play_count'], bins=bins, labels=labels, right=False)\n",
    "merged_df['play_count_binned'].value_counts()"
   ]
  },
  {
   "cell_type": "code",
   "execution_count": 93,
   "metadata": {},
   "outputs": [
    {
     "name": "stdout",
     "output_type": "stream",
     "text": [
      "No. of unique users: 61136\n",
      "No. of unique songs: 41495\n",
      "No. of unique play counts: 142\n"
     ]
    }
   ],
   "source": [
    "print(f\"No. of unique users: {merged_df['user_id'].nunique()}\")\n",
    "print(f\"No. of unique songs: {merged_df['song_id'].nunique()}\")\n",
    "print(f\"No. of unique play counts: {merged_df['play_count'].nunique()}\")"
   ]
  },
  {
   "cell_type": "markdown",
   "metadata": {},
   "source": [
    "`Find the most popular artists based on the number of total unique users`"
   ]
  },
  {
   "cell_type": "code",
   "execution_count": 94,
   "metadata": {},
   "outputs": [
    {
     "data": {
      "text/html": [
       "<div>\n",
       "<style scoped>\n",
       "    .dataframe tbody tr th:only-of-type {\n",
       "        vertical-align: middle;\n",
       "    }\n",
       "\n",
       "    .dataframe tbody tr th {\n",
       "        vertical-align: top;\n",
       "    }\n",
       "\n",
       "    .dataframe thead th {\n",
       "        text-align: right;\n",
       "    }\n",
       "</style>\n",
       "<table border=\"1\" class=\"dataframe\">\n",
       "  <thead>\n",
       "    <tr style=\"text-align: right;\">\n",
       "      <th></th>\n",
       "      <th>Artist</th>\n",
       "      <th>Total Unique Listeners</th>\n",
       "    </tr>\n",
       "  </thead>\n",
       "  <tbody>\n",
       "    <tr>\n",
       "      <th>2400</th>\n",
       "      <td>Coldplay</td>\n",
       "      <td>795</td>\n",
       "    </tr>\n",
       "    <tr>\n",
       "      <th>4126</th>\n",
       "      <td>Florence + The Machine</td>\n",
       "      <td>571</td>\n",
       "    </tr>\n",
       "    <tr>\n",
       "      <th>6320</th>\n",
       "      <td>Kings Of Leon</td>\n",
       "      <td>563</td>\n",
       "    </tr>\n",
       "    <tr>\n",
       "      <th>6015</th>\n",
       "      <td>Justin Bieber</td>\n",
       "      <td>499</td>\n",
       "    </tr>\n",
       "    <tr>\n",
       "      <th>12328</th>\n",
       "      <td>Train</td>\n",
       "      <td>469</td>\n",
       "    </tr>\n",
       "    <tr>\n",
       "      <th>3700</th>\n",
       "      <td>Eminem</td>\n",
       "      <td>410</td>\n",
       "    </tr>\n",
       "    <tr>\n",
       "      <th>8562</th>\n",
       "      <td>OneRepublic</td>\n",
       "      <td>409</td>\n",
       "    </tr>\n",
       "    <tr>\n",
       "      <th>5282</th>\n",
       "      <td>Jack Johnson</td>\n",
       "      <td>407</td>\n",
       "    </tr>\n",
       "    <tr>\n",
       "      <th>11107</th>\n",
       "      <td>The Black Keys</td>\n",
       "      <td>398</td>\n",
       "    </tr>\n",
       "    <tr>\n",
       "      <th>6819</th>\n",
       "      <td>Linkin Park</td>\n",
       "      <td>375</td>\n",
       "    </tr>\n",
       "  </tbody>\n",
       "</table>\n",
       "</div>"
      ],
      "text/plain": [
       "                       Artist  Total Unique Listeners\n",
       "2400                 Coldplay                     795\n",
       "4126   Florence + The Machine                     571\n",
       "6320            Kings Of Leon                     563\n",
       "6015            Justin Bieber                     499\n",
       "12328                   Train                     469\n",
       "3700                   Eminem                     410\n",
       "8562              OneRepublic                     409\n",
       "5282             Jack Johnson                     407\n",
       "11107          The Black Keys                     398\n",
       "6819              Linkin Park                     375"
      ]
     },
     "execution_count": 94,
     "metadata": {},
     "output_type": "execute_result"
    }
   ],
   "source": [
    "popular = merged_df[['artist_name','user_id']]\n",
    "\n",
    "# remove duplicate rows because of the same user listening to the same artist multiple times\n",
    "popular = popular.drop_duplicates()\n",
    "\n",
    "artist_pop = popular.pivot_table(values=['user_id'],index = 'artist_name' ,aggfunc = 'count') \n",
    "\n",
    "artist_pop = artist_pop.reset_index()\n",
    "\n",
    "artist_pop = artist_pop.sort_values(by='user_id',ascending=False)\n",
    "\n",
    "artist_pop.rename(columns = {'artist_name':'Artist', 'user_id':'Total Unique Listeners'}, inplace = True)\n",
    "\n",
    "artist_pop.head(10)"
   ]
  },
  {
   "cell_type": "markdown",
   "metadata": {},
   "source": [
    "`Most popular songs` "
   ]
  },
  {
   "cell_type": "code",
   "execution_count": 95,
   "metadata": {},
   "outputs": [
    {
     "data": {
      "text/html": [
       "<div>\n",
       "<style scoped>\n",
       "    .dataframe tbody tr th:only-of-type {\n",
       "        vertical-align: middle;\n",
       "    }\n",
       "\n",
       "    .dataframe tbody tr th {\n",
       "        vertical-align: top;\n",
       "    }\n",
       "\n",
       "    .dataframe thead th {\n",
       "        text-align: right;\n",
       "    }\n",
       "</style>\n",
       "<table border=\"1\" class=\"dataframe\">\n",
       "  <thead>\n",
       "    <tr style=\"text-align: right;\">\n",
       "      <th></th>\n",
       "      <th>song</th>\n",
       "      <th>artist_name</th>\n",
       "      <th>play_count</th>\n",
       "    </tr>\n",
       "  </thead>\n",
       "  <tbody>\n",
       "    <tr>\n",
       "      <th>0</th>\n",
       "      <td>Undo</td>\n",
       "      <td>Björk</td>\n",
       "      <td>2427</td>\n",
       "    </tr>\n",
       "    <tr>\n",
       "      <th>1</th>\n",
       "      <td>You're The One</td>\n",
       "      <td>Dwight Yoakam</td>\n",
       "      <td>2384</td>\n",
       "    </tr>\n",
       "    <tr>\n",
       "      <th>2</th>\n",
       "      <td>Horn Concerto No. 4 in E flat K495: II. Romanc...</td>\n",
       "      <td>Barry Tuckwell/Academy of St Martin-in-the-Fie...</td>\n",
       "      <td>1680</td>\n",
       "    </tr>\n",
       "    <tr>\n",
       "      <th>3</th>\n",
       "      <td>Revelry</td>\n",
       "      <td>Kings Of Leon</td>\n",
       "      <td>1486</td>\n",
       "    </tr>\n",
       "    <tr>\n",
       "      <th>4</th>\n",
       "      <td>Sehr kosmisch</td>\n",
       "      <td>Harmonia</td>\n",
       "      <td>1249</td>\n",
       "    </tr>\n",
       "    <tr>\n",
       "      <th>5</th>\n",
       "      <td>Dog Days Are Over (Radio Edit)</td>\n",
       "      <td>Florence + The Machine</td>\n",
       "      <td>982</td>\n",
       "    </tr>\n",
       "    <tr>\n",
       "      <th>6</th>\n",
       "      <td>Secrets</td>\n",
       "      <td>OneRepublic</td>\n",
       "      <td>951</td>\n",
       "    </tr>\n",
       "    <tr>\n",
       "      <th>7</th>\n",
       "      <td>Ain't Misbehavin</td>\n",
       "      <td>Sam Cooke</td>\n",
       "      <td>850</td>\n",
       "    </tr>\n",
       "    <tr>\n",
       "      <th>8</th>\n",
       "      <td>Recado Falado (Metrô Da Saudade)</td>\n",
       "      <td>Alceu Valença</td>\n",
       "      <td>829</td>\n",
       "    </tr>\n",
       "    <tr>\n",
       "      <th>9</th>\n",
       "      <td>Représente</td>\n",
       "      <td>Alliance Ethnik</td>\n",
       "      <td>820</td>\n",
       "    </tr>\n",
       "  </tbody>\n",
       "</table>\n",
       "</div>"
      ],
      "text/plain": [
       "                                                song  \\\n",
       "0                                               Undo   \n",
       "1                                     You're The One   \n",
       "2  Horn Concerto No. 4 in E flat K495: II. Romanc...   \n",
       "3                                            Revelry   \n",
       "4                                      Sehr kosmisch   \n",
       "5                     Dog Days Are Over (Radio Edit)   \n",
       "6                                            Secrets   \n",
       "7                                   Ain't Misbehavin   \n",
       "8                   Recado Falado (Metrô Da Saudade)   \n",
       "9                                         Représente   \n",
       "\n",
       "                                         artist_name  play_count  \n",
       "0                                              Björk        2427  \n",
       "1                                      Dwight Yoakam        2384  \n",
       "2  Barry Tuckwell/Academy of St Martin-in-the-Fie...        1680  \n",
       "3                                      Kings Of Leon        1486  \n",
       "4                                           Harmonia        1249  \n",
       "5                             Florence + The Machine         982  \n",
       "6                                        OneRepublic         951  \n",
       "7                                          Sam Cooke         850  \n",
       "8                                      Alceu Valença         829  \n",
       "9                                    Alliance Ethnik         820  "
      ]
     },
     "execution_count": 95,
     "metadata": {},
     "output_type": "execute_result"
    }
   ],
   "source": [
    "popular = merged_df[['artist_name','song','play_count']]\n",
    "\n",
    "artist_pop = popular.pivot_table(values=['play_count'],index = ['artist_name','song'] ,aggfunc = 'sum')\n",
    "\n",
    "artist_pop = artist_pop.sort_values(by='play_count',ascending=False)\n",
    "\n",
    "artist_pop = artist_pop.reset_index()\n",
    "\n",
    "artist_pop[['song', 'artist_name', 'play_count']].head(10)"
   ]
  },
  {
   "cell_type": "markdown",
   "metadata": {},
   "source": [
    "`Question 1:` What users listen the most? how many play counts, how many unique songs? "
   ]
  },
  {
   "cell_type": "code",
   "execution_count": 96,
   "metadata": {},
   "outputs": [],
   "source": [
    "top_user = merged_df[['user_id','play_count','song_id']]\n",
    "\n",
    "# calculate the the total play count for each user and total number of song_id they listened to \n",
    "top_user = top_user.groupby('user_id').agg({'play_count':'sum','song_id':'count'}).reset_index()\n",
    "\n",
    "top_user.rename(columns = {'play_count':'Total_Play_Count','song_id':'Total_Song_Count'}, inplace = True)\n",
    "\n",
    "top_user = top_user.sort_values(by='Total_Play_Count',ascending=False)"
   ]
  },
  {
   "cell_type": "code",
   "execution_count": 97,
   "metadata": {},
   "outputs": [
    {
     "name": "stdout",
     "output_type": "stream",
     "text": [
      "Here is the top users that listen to the most songs and their total play count, number of songs they listen to:\n"
     ]
    },
    {
     "data": {
      "text/html": [
       "<div>\n",
       "<style scoped>\n",
       "    .dataframe tbody tr th:only-of-type {\n",
       "        vertical-align: middle;\n",
       "    }\n",
       "\n",
       "    .dataframe tbody tr th {\n",
       "        vertical-align: top;\n",
       "    }\n",
       "\n",
       "    .dataframe thead th {\n",
       "        text-align: right;\n",
       "    }\n",
       "</style>\n",
       "<table border=\"1\" class=\"dataframe\">\n",
       "  <thead>\n",
       "    <tr style=\"text-align: right;\">\n",
       "      <th></th>\n",
       "      <th>user_id</th>\n",
       "      <th>Total_Play_Count</th>\n",
       "      <th>Total_Song_Count</th>\n",
       "    </tr>\n",
       "  </thead>\n",
       "  <tbody>\n",
       "    <tr>\n",
       "      <th>26152</th>\n",
       "      <td>6e2e840f6e717c883efec5115e1f25bb805765c1</td>\n",
       "      <td>454</td>\n",
       "      <td>1</td>\n",
       "    </tr>\n",
       "    <tr>\n",
       "      <th>21194</th>\n",
       "      <td>590e425afafecf7953765c2873865519e7f80343</td>\n",
       "      <td>434</td>\n",
       "      <td>2</td>\n",
       "    </tr>\n",
       "    <tr>\n",
       "      <th>10494</th>\n",
       "      <td>2bb4f982c96ceef1f1965a762201b76983af9f0b</td>\n",
       "      <td>353</td>\n",
       "      <td>3</td>\n",
       "    </tr>\n",
       "    <tr>\n",
       "      <th>49317</th>\n",
       "      <td>cf0f33c580293de446dd4dc27da1793565f30ee4</td>\n",
       "      <td>335</td>\n",
       "      <td>1</td>\n",
       "    </tr>\n",
       "    <tr>\n",
       "      <th>42773</th>\n",
       "      <td>b371df81acfde601d157a99c50fa06f7b3f76a84</td>\n",
       "      <td>334</td>\n",
       "      <td>5</td>\n",
       "    </tr>\n",
       "  </tbody>\n",
       "</table>\n",
       "</div>"
      ],
      "text/plain": [
       "                                        user_id  Total_Play_Count  \\\n",
       "26152  6e2e840f6e717c883efec5115e1f25bb805765c1               454   \n",
       "21194  590e425afafecf7953765c2873865519e7f80343               434   \n",
       "10494  2bb4f982c96ceef1f1965a762201b76983af9f0b               353   \n",
       "49317  cf0f33c580293de446dd4dc27da1793565f30ee4               335   \n",
       "42773  b371df81acfde601d157a99c50fa06f7b3f76a84               334   \n",
       "\n",
       "       Total_Song_Count  \n",
       "26152                 1  \n",
       "21194                 2  \n",
       "10494                 3  \n",
       "49317                 1  \n",
       "42773                 5  "
      ]
     },
     "execution_count": 97,
     "metadata": {},
     "output_type": "execute_result"
    }
   ],
   "source": [
    "# select the top 5 only \n",
    "top_user = top_user.head(5)\n",
    "\n",
    "print('Here is the top users that listen to the most songs and their total play count, number of songs they listen to:')\n",
    "top_user"
   ]
  },
  {
   "cell_type": "code",
   "execution_count": 98,
   "metadata": {},
   "outputs": [
    {
     "data": {
      "image/png": "[encoded data removed]",
      "text/plain": [
       "<Figure size 1000x500 with 1 Axes>"
      ]
     },
     "metadata": {},
     "output_type": "display_data"
    },
    {
     "data": {
      "image/png": "[encoded data removed]",
      "text/plain": [
       "<Figure size 1000x500 with 1 Axes>"
      ]
     },
     "metadata": {},
     "output_type": "display_data"
    }
   ],
   "source": [
    "# visualize top 5 users with the most play count and their number of play counts and number of songs they listened to\n",
    "plt.figure(figsize=(10,5))\n",
    "sns.barplot(y='user_id',x='Total_Play_Count',data=top_user, color = 'skyblue')\n",
    "plt.title('Top 5 users with the most play count')\n",
    "plt.show()\n",
    "\n",
    "# visualize top 5 users with the most play count and their number of play counts and number of songs they listened to\n",
    "plt.figure(figsize=(10,5))\n",
    "sns.barplot(y='user_id',x='Total_Song_Count',data=top_user, color = 'skyblue')\n",
    "plt.title('Total number of songs listened to by top 5 users')\n",
    "plt.show()"
   ]
  },
  {
   "cell_type": "code",
   "execution_count": 99,
   "metadata": {},
   "outputs": [
    {
     "name": "stdout",
     "output_type": "stream",
     "text": [
      "These are the songs listened to by the top 5 users with the most play count: \n",
      "\n",
      "                  song  play_count\n",
      "44711  Better Together         454\n",
      "\n",
      "\n",
      "                      song  play_count\n",
      "21091  Rain On Your Parade         433\n",
      "90931     Scarborough Fair           1\n",
      "\n",
      "\n",
      "                                   song  play_count\n",
      "47938  Recado Falado (Metrô Da Saudade)         348\n",
      "60100                        Gunn Clapp           4\n",
      "49657                           Invalid           1\n",
      "\n",
      "\n",
      "        song  play_count\n",
      "40802  Sorry         335\n",
      "\n",
      "\n",
      "                                                    song  play_count\n",
      "86540                                   Divide & Conquer         136\n",
      "98296                                This Is Not My Life          91\n",
      "18236  Remember Me (Contains Hidden Track 'Fatal Fact...          77\n",
      "79805                                      Draw Me Close          29\n",
      "7938                                         Winter Song           1\n",
      "\n",
      "\n"
     ]
    }
   ],
   "source": [
    "print('These are the songs listened to by the top 5 users with the most play count: \\n')\n",
    "for user in top_user['user_id']:\n",
    "    print(merged_df[merged_df['user_id'] == user][['song','play_count']].sort_values(by='play_count',ascending=False).head(10))\n",
    "    print(\"\\n\")"
   ]
  },
  {
   "cell_type": "markdown",
   "metadata": {},
   "source": [
    "`Question 2:` What are the most popular songs and artist? How many unique users have listened to them?"
   ]
  },
  {
   "cell_type": "markdown",
   "metadata": {},
   "source": [
    "- Here I define most popular songs as songs that have the most play counts, while most popular artists are artists that have the most unique listeners.\n",
    "- Some may also argue that the most popular artists are those that have the most play counts, so I produce visualizations for both cases"
   ]
  },
  {
   "cell_type": "code",
   "execution_count": 100,
   "metadata": {},
   "outputs": [
    {
     "data": {
      "text/html": [
       "<div>\n",
       "<style scoped>\n",
       "    .dataframe tbody tr th:only-of-type {\n",
       "        vertical-align: middle;\n",
       "    }\n",
       "\n",
       "    .dataframe tbody tr th {\n",
       "        vertical-align: top;\n",
       "    }\n",
       "\n",
       "    .dataframe thead th {\n",
       "        text-align: right;\n",
       "    }\n",
       "</style>\n",
       "<table border=\"1\" class=\"dataframe\">\n",
       "  <thead>\n",
       "    <tr style=\"text-align: right;\">\n",
       "      <th></th>\n",
       "      <th>Artist</th>\n",
       "      <th>Song</th>\n",
       "      <th>Total_Play_Count</th>\n",
       "      <th>Total_Unique_Users</th>\n",
       "    </tr>\n",
       "  </thead>\n",
       "  <tbody>\n",
       "    <tr>\n",
       "      <th>4460</th>\n",
       "      <td>Björk</td>\n",
       "      <td>Undo</td>\n",
       "      <td>2427</td>\n",
       "      <td>302</td>\n",
       "    </tr>\n",
       "    <tr>\n",
       "      <th>11085</th>\n",
       "      <td>Dwight Yoakam</td>\n",
       "      <td>You're The One</td>\n",
       "      <td>2384</td>\n",
       "      <td>282</td>\n",
       "    </tr>\n",
       "    <tr>\n",
       "      <th>3411</th>\n",
       "      <td>Barry Tuckwell/Academy of St Martin-in-the-Fie...</td>\n",
       "      <td>Horn Concerto No. 4 in E flat K495: II. Romanc...</td>\n",
       "      <td>1680</td>\n",
       "      <td>240</td>\n",
       "    </tr>\n",
       "    <tr>\n",
       "      <th>20061</th>\n",
       "      <td>Kings Of Leon</td>\n",
       "      <td>Revelry</td>\n",
       "      <td>1486</td>\n",
       "      <td>253</td>\n",
       "    </tr>\n",
       "    <tr>\n",
       "      <th>15464</th>\n",
       "      <td>Harmonia</td>\n",
       "      <td>Sehr kosmisch</td>\n",
       "      <td>1249</td>\n",
       "      <td>361</td>\n",
       "    </tr>\n",
       "  </tbody>\n",
       "</table>\n",
       "</div>"
      ],
      "text/plain": [
       "                                                  Artist  \\\n",
       "4460                                               Björk   \n",
       "11085                                      Dwight Yoakam   \n",
       "3411   Barry Tuckwell/Academy of St Martin-in-the-Fie...   \n",
       "20061                                      Kings Of Leon   \n",
       "15464                                           Harmonia   \n",
       "\n",
       "                                                    Song  Total_Play_Count  \\\n",
       "4460                                                Undo              2427   \n",
       "11085                                     You're The One              2384   \n",
       "3411   Horn Concerto No. 4 in E flat K495: II. Romanc...              1680   \n",
       "20061                                            Revelry              1486   \n",
       "15464                                      Sehr kosmisch              1249   \n",
       "\n",
       "       Total_Unique_Users  \n",
       "4460                  302  \n",
       "11085                 282  \n",
       "3411                  240  \n",
       "20061                 253  \n",
       "15464                 361  "
      ]
     },
     "execution_count": 100,
     "metadata": {},
     "output_type": "execute_result"
    }
   ],
   "source": [
    "popular = merged_df[['artist_name','song','play_count','user_id']]\n",
    "\n",
    "pop_song = popular.pivot_table(values=['play_count','user_id'],index = ['artist_name','song'] ,aggfunc = {'play_count':'sum','user_id':'count'})\n",
    "\n",
    "pop_song.reset_index(inplace=True)\n",
    "\n",
    "# sort by play count, and number of unique users\n",
    "pop_song = pop_song.sort_values(by=['play_count','user_id'],ascending=False)\n",
    "\n",
    "# rename columns\n",
    "pop_song.rename(columns = {'artist_name':'Artist', 'song':'Song', 'play_count':'Total_Play_Count','user_id':'Total_Unique_Users'}, inplace = True)\n",
    "pop_song.head()\n"
   ]
  },
  {
   "cell_type": "code",
   "execution_count": 101,
   "metadata": {},
   "outputs": [
    {
     "data": {
      "image/png": "[encoded data removed]",
      "text/plain": [
       "<Figure size 1000x500 with 1 Axes>"
      ]
     },
     "metadata": {},
     "output_type": "display_data"
    }
   ],
   "source": [
    "# visualize the top 5 songs with the most play count\n",
    "plt.figure(figsize=(10,5))\n",
    "\n",
    "sns.barplot(x='Total_Play_Count',y='Song',data=pop_song.head(5), color = 'skyblue')\n",
    "# include a second bar for the number of unique users\n",
    "\n",
    "plt.title('Top 5 most popular songs')\n",
    "\n",
    "plt.show()\n"
   ]
  },
  {
   "cell_type": "code",
   "execution_count": 102,
   "metadata": {},
   "outputs": [
    {
     "data": {
      "text/plain": [
       "<Figure size 2000x500 with 0 Axes>"
      ]
     },
     "metadata": {},
     "output_type": "display_data"
    },
    {
     "data": {
      "image/png": "[encoded data removed]",
      "text/plain": [
       "<Figure size 640x480 with 1 Axes>"
      ]
     },
     "metadata": {},
     "output_type": "display_data"
    }
   ],
   "source": [
    "# Visualize popular aritsts based on the total play counts\n",
    "artist_pop = merged_df.groupby('artist_name').agg({'play_count': ['sum', 'count']}).reset_index()\n",
    "\n",
    "artist_pop.columns = ['Artist', 'Total_Plays', 'Unique_Users'] \n",
    "\n",
    "# Sort by total play in descending order\n",
    "artist_pop = artist_pop.sort_values(by='Total_Plays', ascending=False)\n",
    "\n",
    "artist_pop = artist_pop.reset_index(drop=True).head(5)\n",
    "\n",
    "plt.figure(figsize=(20,5))\n",
    "\n",
    "artist_pop.plot(x='Artist', y=['Total_Plays', 'Unique_Users'], kind='bar')\n",
    "\n",
    "plt.title('Top 5 Most Popular Artists Based on Total Play Counts')\n",
    "\n",
    "plt.show()"
   ]
  },
  {
   "cell_type": "code",
   "execution_count": 103,
   "metadata": {},
   "outputs": [
    {
     "data": {
      "text/plain": [
       "<Figure size 2000x500 with 0 Axes>"
      ]
     },
     "metadata": {},
     "output_type": "display_data"
    },
    {
     "data": {
      "image/png": "[encoded data removed]",
      "text/plain": [
       "<Figure size 640x480 with 1 Axes>"
      ]
     },
     "metadata": {},
     "output_type": "display_data"
    }
   ],
   "source": [
    "# Top 5 popular artists based on the number of unique users\n",
    "\n",
    "artist_pop = artist_pop.sort_values(by='Unique_Users', ascending=False)\n",
    "\n",
    "artist_pop = artist_pop.reset_index(drop=True).head(5)\n",
    "\n",
    "plt.figure(figsize=(20,5))\n",
    "\n",
    "artist_pop.plot(x='Artist', y='Unique_Users', kind='bar')\n",
    "\n",
    "plt.title('Top 5 most popular artist based on the number of unique users')\n",
    "\n",
    "plt.legend('')\n",
    "\n",
    "plt.show()"
   ]
  },
  {
   "cell_type": "code",
   "execution_count": 19,
   "metadata": {},
   "outputs": [
    {
     "name": "stdout",
     "output_type": "stream",
     "text": [
      "Here is the table of the top 5 most popular artists based on the total of unique listeners and total play counts: \n",
      "\n"
     ]
    },
    {
     "data": {
      "text/html": [
       "<div>\n",
       "<style scoped>\n",
       "    .dataframe tbody tr th:only-of-type {\n",
       "        vertical-align: middle;\n",
       "    }\n",
       "\n",
       "    .dataframe tbody tr th {\n",
       "        vertical-align: top;\n",
       "    }\n",
       "\n",
       "    .dataframe thead th {\n",
       "        text-align: right;\n",
       "    }\n",
       "</style>\n",
       "<table border=\"1\" class=\"dataframe\">\n",
       "  <thead>\n",
       "    <tr style=\"text-align: right;\">\n",
       "      <th></th>\n",
       "      <th>Artist</th>\n",
       "      <th>Total_Plays</th>\n",
       "      <th>Unique_Users</th>\n",
       "    </tr>\n",
       "  </thead>\n",
       "  <tbody>\n",
       "    <tr>\n",
       "      <th>0</th>\n",
       "      <td>Coldplay</td>\n",
       "      <td>2119</td>\n",
       "      <td>858</td>\n",
       "    </tr>\n",
       "    <tr>\n",
       "      <th>1</th>\n",
       "      <td>Florence + The Machine</td>\n",
       "      <td>2308</td>\n",
       "      <td>600</td>\n",
       "    </tr>\n",
       "    <tr>\n",
       "      <th>2</th>\n",
       "      <td>Kings Of Leon</td>\n",
       "      <td>2302</td>\n",
       "      <td>583</td>\n",
       "    </tr>\n",
       "    <tr>\n",
       "      <th>3</th>\n",
       "      <td>Björk</td>\n",
       "      <td>2522</td>\n",
       "      <td>351</td>\n",
       "    </tr>\n",
       "    <tr>\n",
       "      <th>4</th>\n",
       "      <td>Dwight Yoakam</td>\n",
       "      <td>2396</td>\n",
       "      <td>290</td>\n",
       "    </tr>\n",
       "  </tbody>\n",
       "</table>\n",
       "</div>"
      ],
      "text/plain": [
       "                   Artist  Total_Plays  Unique_Users\n",
       "0                Coldplay         2119           858\n",
       "1  Florence + The Machine         2308           600\n",
       "2           Kings Of Leon         2302           583\n",
       "3                   Björk         2522           351\n",
       "4           Dwight Yoakam         2396           290"
      ]
     },
     "execution_count": 19,
     "metadata": {},
     "output_type": "execute_result"
    }
   ],
   "source": [
    "print('Here is the table of the top 5 most popular artists based on the total of unique listeners and total play counts: \\n')\n",
    "artist_pop"
   ]
  },
  {
   "cell_type": "markdown",
   "metadata": {},
   "source": [
    "*Analysis for these EDA are provided in the executive summary* "
   ]
  },
  {
   "cell_type": "markdown",
   "metadata": {},
   "source": [
    "## 3. Model Building"
   ]
  },
  {
   "cell_type": "markdown",
   "metadata": {},
   "source": [
    "Overview:\n",
    "- 3.1 BaselineOnly - method of surprise \n",
    "- 3.2 SVD\n",
    "- 3.3 SVD Tuned with GridSearchCV"
   ]
  },
  {
   "cell_type": "markdown",
   "metadata": {},
   "source": [
    "### 3.1 Baseline Algorithm"
   ]
  },
  {
   "cell_type": "markdown",
   "metadata": {},
   "source": [
    "For the first model, we will buid the baseline algorithm"
   ]
  },
  {
   "cell_type": "code",
   "execution_count": 20,
   "metadata": {},
   "outputs": [],
   "source": [
    "# prepare dataset\n",
    "reader = Reader(rating_scale=(merged_df['play_count_binned'].min(),\n",
    "                              merged_df['play_count_binned'].max()))\n",
    "data = Dataset.load_from_df(merged_df[['user_id','song_id','play_count_binned']], reader)\n",
    "\n",
    "\n",
    "# test set is made of 30% of the ratings.\n",
    "trainset, testset = train_test_split(data,test_size=0.3)\n"
   ]
  },
  {
   "cell_type": "code",
   "execution_count": 21,
   "metadata": {},
   "outputs": [
    {
     "name": "stdout",
     "output_type": "stream",
     "text": [
      "user count.:  48673\n",
      "item count.:  32968\n",
      "rating count.:  70007\n",
      "rating range:  (1, 10)\n"
     ]
    }
   ],
   "source": [
    "# overview of the trainset\n",
    "print('user count.: ', trainset.n_users)\n",
    "print('item count.: ', trainset.n_items)\n",
    "print('rating count.: ', trainset.n_ratings)\n",
    "print('rating range: ', trainset.rating_scale)"
   ]
  },
  {
   "cell_type": "markdown",
   "metadata": {},
   "source": [
    "To make life easy, I will create a class to store evaluation metrics of all the built models"
   ]
  },
  {
   "cell_type": "code",
   "execution_count": 22,
   "metadata": {},
   "outputs": [],
   "source": [
    "class ModelMetrics:\n",
    "    def __init__(self, model, testset):\n",
    "        self.model = model\n",
    "        self.testset = testset\n",
    "        self.predictions = model.test(testset)\n",
    "        self.rmse = accuracy.rmse(self.predictions, verbose=False).round(4)\n",
    "        self.mae = accuracy.mae(self.predictions, verbose=False).round(4)"
   ]
  },
  {
   "cell_type": "code",
   "execution_count": 23,
   "metadata": {},
   "outputs": [
    {
     "name": "stdout",
     "output_type": "stream",
     "text": [
      "Estimating biases using als...\n"
     ]
    },
    {
     "data": {
      "text/plain": [
       "<surprise.prediction_algorithms.baseline_only.BaselineOnly at 0x1ec066f38d0>"
      ]
     },
     "execution_count": 23,
     "metadata": {},
     "output_type": "execute_result"
    }
   ],
   "source": [
    "# Define and train the BaselineOnly model\n",
    "bsl_options = {'method': 'als',\n",
    "               'n_epochs': 5,\n",
    "               'reg_u': 3,\n",
    "               'reg_i': 15} \n",
    "algo_global = BaselineOnly(bsl_options=bsl_options)\n",
    "algo_global.fit(trainset)\n"
   ]
  },
  {
   "cell_type": "code",
   "execution_count": 24,
   "metadata": {},
   "outputs": [
    {
     "name": "stdout",
     "output_type": "stream",
     "text": [
      "Evaluating Global Mean Baseline:\n",
      "RMSE:  2.4731\n",
      "MAE:  1.8222\n"
     ]
    }
   ],
   "source": [
    "print(\"Evaluating Global Mean Baseline:\")\n",
    "bsl_metrics = ModelMetrics(algo_global, testset)\n",
    "print(\"RMSE: \", bsl_metrics.rmse)\n",
    "print(\"MAE: \", bsl_metrics.mae)"
   ]
  },
  {
   "cell_type": "markdown",
   "metadata": {},
   "source": [
    "### 3.2 Singular Value Decomposition (SVD)"
   ]
  },
  {
   "cell_type": "code",
   "execution_count": 25,
   "metadata": {},
   "outputs": [
    {
     "data": {
      "text/plain": [
       "<surprise.prediction_algorithms.matrix_factorization.SVD at 0x1ec01c36c50>"
      ]
     },
     "execution_count": 25,
     "metadata": {},
     "output_type": "execute_result"
    }
   ],
   "source": [
    "# Use the SVD algorithm\n",
    "svd_model = SVD(\n",
    "    n_epochs = 20,\n",
    "    lr_all = 0.005,\n",
    "    n_factors =  50,\n",
    "    reg_all =  0.1\n",
    ")\n",
    "\n",
    "# Train the algorithm on the trainset\n",
    "svd_model.fit(trainset)"
   ]
  },
  {
   "cell_type": "code",
   "execution_count": 26,
   "metadata": {},
   "outputs": [
    {
     "name": "stdout",
     "output_type": "stream",
     "text": [
      "Evaluating Non Tuned SVD Model:\n",
      "RMSE:  2.4962\n",
      "MAE:  1.8547\n"
     ]
    }
   ],
   "source": [
    "# evaluate the SVD model \n",
    "print(\"Evaluating Non Tuned SVD Model:\")\n",
    "svd_metrics = ModelMetrics(svd_model, testset)\n",
    "print(\"RMSE: \", svd_metrics.rmse)\n",
    "print(\"MAE: \", svd_metrics.mae)\n"
   ]
  },
  {
   "cell_type": "markdown",
   "metadata": {},
   "source": [
    "Ir appears that both RMSE and MAE of SVD model are higher than the baseline model. However, the difference is not significant.\n",
    "- To further enhance the model performance, we can attempt to tune the hyperparameters of the SVD model using GridSearchCV.\n"
   ]
  },
  {
   "cell_type": "markdown",
   "metadata": {},
   "source": [
    "### 3.3 Fine Tuning SVD with GridSearchCV"
   ]
  },
  {
   "cell_type": "markdown",
   "metadata": {},
   "source": [
    "#### 3.3.1 Tuning 1"
   ]
  },
  {
   "cell_type": "code",
   "execution_count": 27,
   "metadata": {},
   "outputs": [
    {
     "name": "stdout",
     "output_type": "stream",
     "text": [
      "RMSE best score of the first tuned SVD: 2.5009184850417623\n",
      "Here is the combination of hyperparameters that gave the best RMSE score: \n",
      "\n",
      "{'n_factors': 30, 'n_epochs': 20, 'lr_all': 0.01, 'reg_all': 0.09}\n"
     ]
    }
   ],
   "source": [
    "param_grid = {\n",
    "    'n_factors': [30, 50, 100, 150],\n",
    "    'n_epochs': [10, 20],\n",
    "    'lr_all': [0.002, 0.005, 0.01],\n",
    "    'reg_all': [0.02, 0.05, 0.09]\n",
    "}\n",
    "\n",
    "gs = GridSearchCV(SVD, \n",
    "                  param_grid, \n",
    "                  measures=['RMSE', 'MAE'], \n",
    "                  cv=5, \n",
    "                  n_jobs=-1)\n",
    "\n",
    "gs.fit(data)\n",
    "\n",
    "# best RMSE score on the dataset\n",
    "\n",
    "print(f\"RMSE best score of the first tuned SVD: {gs.best_score['rmse']}\")\n",
    "\n",
    "print(f'Here is the combination of hyperparameters that gave the best RMSE score: \\n')\n",
    "print(gs.best_params['rmse'])\n"
   ]
  },
  {
   "cell_type": "markdown",
   "metadata": {},
   "source": [
    "RMSE for the tunned SVD model is better than the non-tunned one. This is a good sign!\n",
    "\n",
    "However, based on the selected hyperparameters, the some of the hyperparameters are at the edge of the range. This means that we can extend the range to further tune the hyperparameters to get a better model performance.\n",
    "\n"
   ]
  },
  {
   "cell_type": "code",
   "execution_count": 28,
   "metadata": {},
   "outputs": [
    {
     "name": "stdout",
     "output_type": "stream",
     "text": [
      "2.4951528272923666\n",
      "{'n_factors': 80, 'n_epochs': 25, 'lr_all': 0.03, 'reg_all': 0.15}\n"
     ]
    }
   ],
   "source": [
    "param_grid = {\n",
    "    'n_factors': [30, 50, 60, 80],\n",
    "    'n_epochs': [15, 20, 25],\n",
    "    'lr_all': [0.005, 0.01,0.03],\n",
    "    'reg_all': [0.05, 0.09, 0.15]\n",
    "}\n",
    "\n",
    "gs = GridSearchCV(SVD, param_grid, measures=['RMSE', 'MAE'], cv=5, n_jobs=-1)\n",
    "gs.fit(data)\n",
    "\n",
    "# best RMSE score\n",
    "print(gs.best_score['rmse'])\n",
    "\n",
    "# combination of parameters that gave the best RMSE score\n",
    "print(gs.best_params['rmse'])\n"
   ]
  },
  {
   "cell_type": "markdown",
   "metadata": {},
   "source": [
    "There are still rooms for improvement. All hyperparameters are still at the edge of the range. We can further extend the range to get a better model performance."
   ]
  },
  {
   "cell_type": "markdown",
   "metadata": {},
   "source": [
    "#### 3.3.2 Tuning 2"
   ]
  },
  {
   "cell_type": "code",
   "execution_count": 29,
   "metadata": {},
   "outputs": [
    {
     "name": "stdout",
     "output_type": "stream",
     "text": [
      "2.4956690469899456\n",
      "{'n_factors': 100, 'n_epochs': 20, 'lr_all': 0.03, 'reg_all': 0.2}\n"
     ]
    }
   ],
   "source": [
    "param_grid = {\n",
    "    'n_factors': [60, 80, 90, 100],\n",
    "    'n_epochs': [15, 20, 30],\n",
    "    'lr_all': [0.01,0.03, 0.05],\n",
    "    'reg_all': [ 0.09, 0.15, 0.2]\n",
    "}\n",
    "\n",
    "gs = GridSearchCV(SVD, param_grid, measures=['RMSE', 'MAE'], cv=5, n_jobs=-1)\n",
    "gs.fit(data)\n",
    "\n",
    "# best RMSE score\n",
    "print(gs.best_score['rmse'])\n",
    "\n",
    "# combination of parameters that gave the best RMSE score\n",
    "print(gs.best_params['rmse'])\n"
   ]
  },
  {
   "cell_type": "markdown",
   "metadata": {},
   "source": [
    "Not the best model performance, but it is a good sign that the model performance is improving. We can automate the process later to find the optimal hyperparameters.\n",
    "\n",
    "But first, let's explore the relationship between the hyperparameters and the model performance."
   ]
  },
  {
   "cell_type": "code",
   "execution_count": 30,
   "metadata": {},
   "outputs": [
    {
     "data": {
      "text/html": [
       "<div>\n",
       "<style scoped>\n",
       "    .dataframe tbody tr th:only-of-type {\n",
       "        vertical-align: middle;\n",
       "    }\n",
       "\n",
       "    .dataframe tbody tr th {\n",
       "        vertical-align: top;\n",
       "    }\n",
       "\n",
       "    .dataframe thead th {\n",
       "        text-align: right;\n",
       "    }\n",
       "</style>\n",
       "<table border=\"1\" class=\"dataframe\">\n",
       "  <thead>\n",
       "    <tr style=\"text-align: right;\">\n",
       "      <th></th>\n",
       "      <th>param_n_factors</th>\n",
       "      <th>param_n_epochs</th>\n",
       "      <th>param_lr_all</th>\n",
       "      <th>param_reg_all</th>\n",
       "      <th>mean_test_rmse</th>\n",
       "      <th>mean_test_mae</th>\n",
       "    </tr>\n",
       "  </thead>\n",
       "  <tbody>\n",
       "    <tr>\n",
       "      <th>0</th>\n",
       "      <td>60</td>\n",
       "      <td>15</td>\n",
       "      <td>0.01</td>\n",
       "      <td>0.09</td>\n",
       "      <td>2.500393</td>\n",
       "      <td>1.844551</td>\n",
       "    </tr>\n",
       "    <tr>\n",
       "      <th>1</th>\n",
       "      <td>60</td>\n",
       "      <td>15</td>\n",
       "      <td>0.01</td>\n",
       "      <td>0.15</td>\n",
       "      <td>2.498769</td>\n",
       "      <td>1.842981</td>\n",
       "    </tr>\n",
       "    <tr>\n",
       "      <th>2</th>\n",
       "      <td>60</td>\n",
       "      <td>15</td>\n",
       "      <td>0.01</td>\n",
       "      <td>0.20</td>\n",
       "      <td>2.498718</td>\n",
       "      <td>1.843036</td>\n",
       "    </tr>\n",
       "    <tr>\n",
       "      <th>3</th>\n",
       "      <td>60</td>\n",
       "      <td>15</td>\n",
       "      <td>0.03</td>\n",
       "      <td>0.09</td>\n",
       "      <td>2.501253</td>\n",
       "      <td>1.814407</td>\n",
       "    </tr>\n",
       "    <tr>\n",
       "      <th>4</th>\n",
       "      <td>60</td>\n",
       "      <td>15</td>\n",
       "      <td>0.03</td>\n",
       "      <td>0.15</td>\n",
       "      <td>2.499871</td>\n",
       "      <td>1.812160</td>\n",
       "    </tr>\n",
       "  </tbody>\n",
       "</table>\n",
       "</div>"
      ],
      "text/plain": [
       "   param_n_factors  param_n_epochs  param_lr_all  param_reg_all  \\\n",
       "0               60              15          0.01           0.09   \n",
       "1               60              15          0.01           0.15   \n",
       "2               60              15          0.01           0.20   \n",
       "3               60              15          0.03           0.09   \n",
       "4               60              15          0.03           0.15   \n",
       "\n",
       "   mean_test_rmse  mean_test_mae  \n",
       "0        2.500393       1.844551  \n",
       "1        2.498769       1.842981  \n",
       "2        2.498718       1.843036  \n",
       "3        2.501253       1.814407  \n",
       "4        2.499871       1.812160  "
      ]
     },
     "execution_count": 30,
     "metadata": {},
     "output_type": "execute_result"
    }
   ],
   "source": [
    "# Document all the hyperparameters and their corresponding RMSE/MAE scores \n",
    "results = gs.cv_results\n",
    "# Convert the dictionary into a Pandas DataFrame\n",
    "results_df = pd.DataFrame.from_dict(results)\n",
    "\n",
    "# Filter the DataFrame to show only the relevant columns\n",
    "relevant_columns = ['param_n_factors', 'param_n_epochs', 'param_lr_all', 'param_reg_all', 'mean_test_rmse', 'mean_test_mae']\n",
    "results_df = results_df[relevant_columns]\n",
    "\n",
    "# Print the DataFrame\n",
    "results_df.head()\n"
   ]
  },
  {
   "cell_type": "markdown",
   "metadata": {},
   "source": [
    "Let's visualize these hyperparameters against model's performance to get a better insight"
   ]
  },
  {
   "cell_type": "markdown",
   "metadata": {},
   "source": [
    "`Let's explore how number of epochs impacts the RMSE given variety of learning rates and regularization parameters`"
   ]
  },
  {
   "cell_type": "code",
   "execution_count": 31,
   "metadata": {},
   "outputs": [
    {
     "data": {
      "image/png": "[encoded data removed]",
      "text/plain": [
       "<Figure size 1000x600 with 1 Axes>"
      ]
     },
     "metadata": {},
     "output_type": "display_data"
    }
   ],
   "source": [
    "filtered_df = results_df[results_df['param_n_factors'] == 100] \n",
    "\n",
    "# Creating the line plot\n",
    "plt.figure(figsize=(10, 6))\n",
    "sns.lineplot(data=filtered_df, x='param_n_epochs', y='mean_test_rmse', marker='o')\n",
    "plt.title('RMSE vs. Number of Epochs (n_epochs)')\n",
    "plt.xlabel('Number of Epochs (n_epochs)')\n",
    "plt.ylabel('Mean Test RMSE')\n",
    "plt.show()"
   ]
  },
  {
   "cell_type": "markdown",
   "metadata": {},
   "source": [
    "`Next, let's explore the relationship between the number of factors and RMSE `"
   ]
  },
  {
   "cell_type": "code",
   "execution_count": 32,
   "metadata": {},
   "outputs": [
    {
     "data": {
      "image/png": "[encoded data removed]",
      "text/plain": [
       "<Figure size 1000x600 with 1 Axes>"
      ]
     },
     "metadata": {},
     "output_type": "display_data"
    }
   ],
   "source": [
    "plt.figure(figsize=(10, 6))\n",
    "sns.boxplot(data=results_df, x='param_n_factors', y='mean_test_rmse', color='skyblue')\n",
    "plt.title('RMSE Distribution for Different Numbers of Factors (n_factors)')\n",
    "plt.xlabel('Number of Factors (n_factors)')\n",
    "plt.ylabel('Mean Test RMSE')\n",
    "plt.show()"
   ]
  },
  {
   "cell_type": "markdown",
   "metadata": {},
   "source": [
    "`Finally, let's explore the relationship between the learning rate and RMSE `"
   ]
  },
  {
   "cell_type": "code",
   "execution_count": 33,
   "metadata": {},
   "outputs": [
    {
     "data": {
      "image/png": "[encoded data removed]",
      "text/plain": [
       "<Figure size 1000x600 with 1 Axes>"
      ]
     },
     "metadata": {},
     "output_type": "display_data"
    }
   ],
   "source": [
    "plt.figure(figsize=(10, 6))\n",
    "sns.boxplot(data=results_df, x='param_lr_all', y='mean_test_rmse', color = 'skyblue')\n",
    "plt.title('RMSE Distribution for Different Numbers of LR Rate')\n",
    "plt.xlabel('(lr_rate)')\n",
    "plt.ylabel('Mean Test RMSE')\n",
    "plt.show()"
   ]
  },
  {
   "cell_type": "markdown",
   "metadata": {},
   "source": [
    "`Conclusion:` It appears that increasing the number of factors and learning rate and epochs could potentially improve the model performance.  "
   ]
  },
  {
   "cell_type": "markdown",
   "metadata": {},
   "source": [
    "#### 3.3.3 Last hope"
   ]
  },
  {
   "cell_type": "markdown",
   "metadata": {},
   "source": [
    "It bothers me deeply to know that the hyperparameters are not optimize. I will attempt to tune the hyperparameters using GridSearchCV to get the best model performance."
   ]
  },
  {
   "cell_type": "code",
   "execution_count": 34,
   "metadata": {},
   "outputs": [],
   "source": [
    "def extend_grid_if_edge(best_param, current_grid):\n",
    "    if best_param == current_grid[0]:  # Left edge\n",
    "        new_edge = current_grid[0] - (current_grid[1] - current_grid[0])\n",
    "        new_grid = [new_edge] + current_grid[:-1]\n",
    "        action = \"left\"\n",
    "    elif best_param == current_grid[-1]:  # Right edge\n",
    "        new_edge = current_grid[-1] + (current_grid[-1] - current_grid[-2])\n",
    "        new_grid = current_grid[1:] + [new_edge]\n",
    "        action = \"right\"\n",
    "    else:\n",
    "        new_grid = current_grid\n",
    "        action = None\n",
    "    return new_grid, action\n",
    "\n",
    "def continuous_grid_search(model, initial_param_grid, data, measures, cv):\n",
    "    current_grid = initial_param_grid.copy()\n",
    "    grid_updated = True\n",
    "    \n",
    "    while grid_updated:\n",
    "        grid_updated = False  # Assume no updates until found otherwise\n",
    "        \n",
    "        # Perform grid search with the current grid\n",
    "        grid_search = GridSearchCV(model, current_grid, measures=measures, cv=cv, n_jobs=-1)\n",
    "        grid_search.fit(data)\n",
    "        \n",
    "        best_params = grid_search.best_params['rmse']  # Adjust based on your metric\n",
    "        \n",
    "        # Iterate over each hyperparameter to potentially extend the grid\n",
    "        for param, best_value in best_params.items():\n",
    "            original_grid = current_grid[param]\n",
    "            new_grid, action = extend_grid_if_edge(best_value, original_grid)\n",
    "            if action:  # If there was an extension\n",
    "                current_grid[param] = new_grid\n",
    "                print(f\"Grid for {param} extended to the {action}. New grid: {new_grid}\")\n",
    "                grid_updated = True\n",
    "        \n",
    "        # If no grid was updated, optimization is complete\n",
    "        if not grid_updated:\n",
    "            print(\"Optimization complete. No further grid extensions needed.\")\n",
    "    \n",
    "    return best_params\n"
   ]
  },
  {
   "cell_type": "markdown",
   "metadata": {},
   "source": [
    "Now, we will give the function a range of hyperparameters to search over, it will shift the range left and right to find the optimal hyperparameters."
   ]
  },
  {
   "cell_type": "code",
   "execution_count": 35,
   "metadata": {},
   "outputs": [],
   "source": [
    "param_grid = {\n",
    "    'n_factors': [60, 80, 90, 100],\n",
    "    'n_epochs': [15, 20, 23],\n",
    "    'lr_all': [0.01,0.03, 0.05],\n",
    "    'reg_all': [ 0.09, 0.15, 0.2]\n",
    "}\n",
    "\n",
    "# best_params = continuous_grid_search(SVD, param_grid, data, ['RMSE', 'MAE'], 5)\n",
    "\n",
    "# best_params"
   ]
  },
  {
   "cell_type": "markdown",
   "metadata": {},
   "source": [
    "After running the function (which takes hours), These parameters yield the best RMSE\n",
    "- n_factors = 140 \n",
    "- n_epochs = 14\n",
    "- lr: 0.03 \n",
    "- reg_all: 0.4 \n",
    "\n",
    "Thus, let's train the model on the train set and evaluate it on the test set."
   ]
  },
  {
   "cell_type": "code",
   "execution_count": 36,
   "metadata": {},
   "outputs": [
    {
     "data": {
      "text/plain": [
       "<surprise.prediction_algorithms.matrix_factorization.SVD at 0x1ec153fc310>"
      ]
     },
     "execution_count": 36,
     "metadata": {},
     "output_type": "execute_result"
    }
   ],
   "source": [
    "# Use the SVD algorithm\n",
    "optimized_hyperparam = {'n_factors': 140,\n",
    " 'n_epochs': 14,\n",
    " 'lr_all': 0.03,\n",
    " 'reg_all': 0.39999999999999997}\n",
    "svd_model_tuned = SVD(\n",
    "    **optimized_hyperparam\n",
    ")\n",
    "# Train the algorithm on the trainset\n",
    "svd_model_tuned.fit(trainset)\n"
   ]
  },
  {
   "cell_type": "code",
   "execution_count": 37,
   "metadata": {},
   "outputs": [
    {
     "name": "stdout",
     "output_type": "stream",
     "text": [
      "Evaluating Tuned SVD Model:\n",
      "RMSE:  2.488\n",
      "MAE:  1.8173\n"
     ]
    }
   ],
   "source": [
    "# evaluate the tunned SVD model \n",
    "print(\"Evaluating Tuned SVD Model:\")\n",
    "tuned_svd_metrics = ModelMetrics(svd_model_tuned, testset)\n",
    "print(\"RMSE: \", tuned_svd_metrics.rmse)\n",
    "print(\"MAE: \", tuned_svd_metrics.mae)\n"
   ]
  },
  {
   "cell_type": "markdown",
   "metadata": {},
   "source": [
    "`Conclusion 3.3:` The tuned SVD model still has a higher RMSE than the baseline model. However, SVD with latent factors can help users diversify their playlist, get to discover new music taste and artists that are aligned with their preferences. This is considered more effective than just suggest the the most popular songs. "
   ]
  },
  {
   "cell_type": "markdown",
   "metadata": {},
   "source": [
    "## 4. Making Recommendations"
   ]
  },
  {
   "cell_type": "markdown",
   "metadata": {},
   "source": [
    "Create a function to make recommendations for users"
   ]
  },
  {
   "cell_type": "code",
   "execution_count": 38,
   "metadata": {},
   "outputs": [],
   "source": [
    "def get_top_n_recommendations(user_id, data, model, n=5):\n",
    "    # 1. Identify all unique beers in the dataset\n",
    "    all_songs = data.df['song_id'].unique()\n",
    "\n",
    "    # 2. Filter out songs that the user has listened to\n",
    "    song_listened = data.df[data.df['user_id'] == user_id]['song_id'].unique()\n",
    "    songs_to_recommend = np.setdiff1d(all_songs, song_listened)\n",
    "\n",
    "    # 3. Use the model to predict the ratings for these beers\n",
    "    predictions = [model.predict(user_id, song).est for song in songs_to_recommend]\n",
    "\n",
    "    # 4. Combine beers and predictions into a list of tuples and sort them\n",
    "    songs_recommended = list(zip(songs_to_recommend, predictions))\n",
    "    songs_recommended.sort(key=lambda x: x[1], reverse=True)\n",
    "\n",
    "    # Return the top n beers\n",
    "    return songs_recommended[:n]\n"
   ]
  },
  {
   "cell_type": "markdown",
   "metadata": {},
   "source": [
    "`Question 1:`  For a random sample of 5 users with 10 or more song plays make 5 recommendations of songs they have not listened to with your SVD "
   ]
  },
  {
   "cell_type": "code",
   "execution_count": 39,
   "metadata": {},
   "outputs": [],
   "source": [
    "# get all the users with 10 or more song plays\n",
    "user_id = merged_df[merged_df['play_count']>=10]['user_id']\n",
    "\n",
    "# get 5 random users from the user_id list \n",
    "random_users = user_id.sample(5)\n",
    "\n",
    "# get a unique dictionary for song_id and song\n",
    "song_dict = merged_df[['song_id','song']].drop_duplicates()\n",
    "\n",
    "song_dict = song_dict.set_index('song_id').to_dict()['song']"
   ]
  },
  {
   "cell_type": "code",
   "execution_count": 40,
   "metadata": {},
   "outputs": [
    {
     "name": "stdout",
     "output_type": "stream",
     "text": [
      "Top 5 Song Recommendations for : f045e6fb4c8519450d3503433caa611415465572\n",
      "Bullet-proof Skin: 6.4567\n",
      "The Hidden Hallows: 6.4407\n",
      "Reptilia: 6.3714\n",
      "Soulful Dress: 6.3550\n",
      "Combat Chuck: 6.2813\n",
      "\n",
      "\n",
      "Top 5 Song Recommendations for : cd409eba5b5adfac03e1376c118bcace962661a2\n",
      "The Quest: 7.5129\n",
      "Greenback Dollar: 7.5038\n",
      "I Love You Always Forever ( LP Version ): 7.4911\n",
      "After Hours: 7.4775\n",
      "Beautiful Worlds: 7.3916\n",
      "\n",
      "\n",
      "Top 5 Song Recommendations for : 190041a302d0f278da31b74c819d2874c92c26dd\n",
      "Where Have All The Cowboys Gone? (Album Version): 6.0277\n",
      "The Quest: 5.8532\n",
      "Is it Too Late?: 5.6803\n",
      "Big Jet Plane: 5.6690\n",
      "I Love You Always Forever ( LP Version ): 5.6100\n",
      "\n",
      "\n",
      "Top 5 Song Recommendations for : d48e4061000fad2f67b197031a8af236b77a5742\n",
      "Cold Blooded (Acid Cleanse): 4.5206\n",
      "Rooftop Gambler: 4.4334\n",
      "The Quest: 4.3790\n",
      "A Deeper Shade Of Soul: 4.3111\n",
      "Project Jazz: 4.3098\n",
      "\n",
      "\n",
      "Top 5 Song Recommendations for : 0de361c39b5b1a38b01dec7534b830bd943e4f2f\n",
      "The Boy Does Nothing: 5.5429\n",
      "Beautiful: 5.5331\n",
      "Shade: 5.5236\n",
      "Best Thing: 5.4668\n",
      "Entre Tus Alas: 5.4600\n",
      "\n",
      "\n"
     ]
    }
   ],
   "source": [
    "for user in random_users:\n",
    "    top_songs = get_top_n_recommendations(user, data, svd_model_tuned, n=5)\n",
    "\n",
    "    print(f\"Top 5 Song Recommendations for : {user}\")\n",
    "\n",
    "    for songs_id, predicted_playcounts in top_songs:\n",
    "        print(f\"{song_dict.get(songs_id)}: {predicted_playcounts:.4f}\")\n",
    "    print(\"\\n\")"
   ]
  },
  {
   "cell_type": "markdown",
   "metadata": {},
   "source": [
    "`Question 2:` Recommendation system should provide releventa recoemmendations expanding the user\n",
    "s pool of option. What would you do to improve your recommendation system? "
   ]
  },
  {
   "cell_type": "markdown",
   "metadata": {},
   "source": [
    "What we can do to improve the recommendation is to improve the number of factors when building the SVD model. This will help the model to capture more complex relationships between users and items. "
   ]
  },
  {
   "cell_type": "markdown",
   "metadata": {},
   "source": [
    "`Question 3:` What are your top 10 recomemendation for a net new user? tha is a user with not user/song play count? That is a user user/song play count? Essentually the cold start problem?"
   ]
  },
  {
   "cell_type": "markdown",
   "metadata": {},
   "source": [
    "- For 10 recommendations for a new user, we can recommend the 5 most popular songs (song with the most play counts) and top songs of the top 5 most popular artists (those with the most unique users).\n",
    "\n",
    "- These songs are put in a recommendation list, and every time we have a new user, we can recommend 10 songs from this list to them"
   ]
  },
  {
   "cell_type": "code",
   "execution_count": 41,
   "metadata": {},
   "outputs": [
    {
     "data": {
      "text/html": [
       "<div>\n",
       "<style scoped>\n",
       "    .dataframe tbody tr th:only-of-type {\n",
       "        vertical-align: middle;\n",
       "    }\n",
       "\n",
       "    .dataframe tbody tr th {\n",
       "        vertical-align: top;\n",
       "    }\n",
       "\n",
       "    .dataframe thead th {\n",
       "        text-align: right;\n",
       "    }\n",
       "</style>\n",
       "<table border=\"1\" class=\"dataframe\">\n",
       "  <thead>\n",
       "    <tr style=\"text-align: right;\">\n",
       "      <th></th>\n",
       "      <th>song_id</th>\n",
       "      <th>play_count</th>\n",
       "    </tr>\n",
       "  </thead>\n",
       "  <tbody>\n",
       "    <tr>\n",
       "      <th>1400</th>\n",
       "      <td>SOAUWYT12A81C206F1</td>\n",
       "      <td>2427</td>\n",
       "    </tr>\n",
       "    <tr>\n",
       "      <th>2649</th>\n",
       "      <td>SOBONKR12A58A7A7E0</td>\n",
       "      <td>2384</td>\n",
       "    </tr>\n",
       "    <tr>\n",
       "      <th>7218</th>\n",
       "      <td>SOEGIYH12A6D4FC0E3</td>\n",
       "      <td>1680</td>\n",
       "    </tr>\n",
       "    <tr>\n",
       "      <th>30815</th>\n",
       "      <td>SOSXLTC12AF72A7F54</td>\n",
       "      <td>1486</td>\n",
       "    </tr>\n",
       "    <tr>\n",
       "      <th>9559</th>\n",
       "      <td>SOFRQTD12A81C233C0</td>\n",
       "      <td>1249</td>\n",
       "    </tr>\n",
       "  </tbody>\n",
       "</table>\n",
       "</div>"
      ],
      "text/plain": [
       "                  song_id  play_count\n",
       "1400   SOAUWYT12A81C206F1        2427\n",
       "2649   SOBONKR12A58A7A7E0        2384\n",
       "7218   SOEGIYH12A6D4FC0E3        1680\n",
       "30815  SOSXLTC12AF72A7F54        1486\n",
       "9559   SOFRQTD12A81C233C0        1249"
      ]
     },
     "execution_count": 41,
     "metadata": {},
     "output_type": "execute_result"
    }
   ],
   "source": [
    "# Top 5 songs with the most play count \n",
    "top_songs = merged_df[['song_id','play_count']].groupby('song_id').agg({'play_count':'sum'}).reset_index()\n",
    "\n",
    "top_songs = top_songs.sort_values(by='play_count',ascending=False)\n",
    "\n",
    "top_songs = top_songs.head(5)\n",
    "\n",
    "top_songs"
   ]
  },
  {
   "cell_type": "code",
   "execution_count": 42,
   "metadata": {},
   "outputs": [
    {
     "data": {
      "text/html": [
       "<div>\n",
       "<style scoped>\n",
       "    .dataframe tbody tr th:only-of-type {\n",
       "        vertical-align: middle;\n",
       "    }\n",
       "\n",
       "    .dataframe tbody tr th {\n",
       "        vertical-align: top;\n",
       "    }\n",
       "\n",
       "    .dataframe thead th {\n",
       "        text-align: right;\n",
       "    }\n",
       "</style>\n",
       "<table border=\"1\" class=\"dataframe\">\n",
       "  <thead>\n",
       "    <tr style=\"text-align: right;\">\n",
       "      <th></th>\n",
       "      <th>Artist</th>\n",
       "      <th>Total_Plays</th>\n",
       "      <th>Unique_Users</th>\n",
       "    </tr>\n",
       "  </thead>\n",
       "  <tbody>\n",
       "    <tr>\n",
       "      <th>0</th>\n",
       "      <td>Coldplay</td>\n",
       "      <td>2119</td>\n",
       "      <td>858</td>\n",
       "    </tr>\n",
       "    <tr>\n",
       "      <th>1</th>\n",
       "      <td>Florence + The Machine</td>\n",
       "      <td>2308</td>\n",
       "      <td>600</td>\n",
       "    </tr>\n",
       "    <tr>\n",
       "      <th>2</th>\n",
       "      <td>Kings Of Leon</td>\n",
       "      <td>2302</td>\n",
       "      <td>583</td>\n",
       "    </tr>\n",
       "    <tr>\n",
       "      <th>3</th>\n",
       "      <td>Björk</td>\n",
       "      <td>2522</td>\n",
       "      <td>351</td>\n",
       "    </tr>\n",
       "    <tr>\n",
       "      <th>4</th>\n",
       "      <td>Dwight Yoakam</td>\n",
       "      <td>2396</td>\n",
       "      <td>290</td>\n",
       "    </tr>\n",
       "  </tbody>\n",
       "</table>\n",
       "</div>"
      ],
      "text/plain": [
       "                   Artist  Total_Plays  Unique_Users\n",
       "0                Coldplay         2119           858\n",
       "1  Florence + The Machine         2308           600\n",
       "2           Kings Of Leon         2302           583\n",
       "3                   Björk         2522           351\n",
       "4           Dwight Yoakam         2396           290"
      ]
     },
     "execution_count": 42,
     "metadata": {},
     "output_type": "execute_result"
    }
   ],
   "source": [
    "# revisit our top artist with the most unique listeners\n",
    "artist_pop"
   ]
  },
  {
   "cell_type": "code",
   "execution_count": 43,
   "metadata": {},
   "outputs": [
    {
     "data": {
      "text/html": [
       "<div>\n",
       "<style scoped>\n",
       "    .dataframe tbody tr th:only-of-type {\n",
       "        vertical-align: middle;\n",
       "    }\n",
       "\n",
       "    .dataframe tbody tr th {\n",
       "        vertical-align: top;\n",
       "    }\n",
       "\n",
       "    .dataframe thead th {\n",
       "        text-align: right;\n",
       "    }\n",
       "</style>\n",
       "<table border=\"1\" class=\"dataframe\">\n",
       "  <thead>\n",
       "    <tr style=\"text-align: right;\">\n",
       "      <th></th>\n",
       "      <th>song_id</th>\n",
       "      <th>song_name</th>\n",
       "      <th>artist_name</th>\n",
       "      <th>play_count</th>\n",
       "    </tr>\n",
       "  </thead>\n",
       "  <tbody>\n",
       "    <tr>\n",
       "      <th>0</th>\n",
       "      <td>SOAUWYT12A81C206F1</td>\n",
       "      <td>Undo</td>\n",
       "      <td>Björk</td>\n",
       "      <td>2427</td>\n",
       "    </tr>\n",
       "    <tr>\n",
       "      <th>86</th>\n",
       "      <td>SOBONKR12A58A7A7E0</td>\n",
       "      <td>You're The One</td>\n",
       "      <td>Dwight Yoakam</td>\n",
       "      <td>2384</td>\n",
       "    </tr>\n",
       "    <tr>\n",
       "      <th>130</th>\n",
       "      <td>SOSXLTC12AF72A7F54</td>\n",
       "      <td>Revelry</td>\n",
       "      <td>Kings Of Leon</td>\n",
       "      <td>1486</td>\n",
       "    </tr>\n",
       "    <tr>\n",
       "      <th>96</th>\n",
       "      <td>SOAXGDH12A8C13F8A1</td>\n",
       "      <td>Dog Days Are Over (Radio Edit)</td>\n",
       "      <td>Florence + The Machine</td>\n",
       "      <td>982</td>\n",
       "    </tr>\n",
       "    <tr>\n",
       "      <th>134</th>\n",
       "      <td>SOWCKVR12A8C142411</td>\n",
       "      <td>Use Somebody</td>\n",
       "      <td>Kings Of Leon</td>\n",
       "      <td>435</td>\n",
       "    </tr>\n",
       "    <tr>\n",
       "      <th>47</th>\n",
       "      <td>SOKLRPJ12A8C13C3FE</td>\n",
       "      <td>The Scientist</td>\n",
       "      <td>Coldplay</td>\n",
       "      <td>345</td>\n",
       "    </tr>\n",
       "    <tr>\n",
       "      <th>28</th>\n",
       "      <td>SOCVTLJ12A6310F0FD</td>\n",
       "      <td>Clocks</td>\n",
       "      <td>Coldplay</td>\n",
       "      <td>294</td>\n",
       "    </tr>\n",
       "    <tr>\n",
       "      <th>109</th>\n",
       "      <td>SOXWYZP12AF72A42A6</td>\n",
       "      <td>Cosmic Love</td>\n",
       "      <td>Florence + The Machine</td>\n",
       "      <td>249</td>\n",
       "    </tr>\n",
       "    <tr>\n",
       "      <th>5</th>\n",
       "      <td>SOEIBBE12A58A7C909</td>\n",
       "      <td>Army of Me</td>\n",
       "      <td>Björk</td>\n",
       "      <td>22</td>\n",
       "    </tr>\n",
       "    <tr>\n",
       "      <th>88</th>\n",
       "      <td>SOECDQQ12A6D4FAE07</td>\n",
       "      <td>Pocket Of A Clown (2006 Remastered LP Version)</td>\n",
       "      <td>Dwight Yoakam</td>\n",
       "      <td>6</td>\n",
       "    </tr>\n",
       "  </tbody>\n",
       "</table>\n",
       "</div>"
      ],
      "text/plain": [
       "                song_id                                       song_name  \\\n",
       "0    SOAUWYT12A81C206F1                                            Undo   \n",
       "86   SOBONKR12A58A7A7E0                                  You're The One   \n",
       "130  SOSXLTC12AF72A7F54                                         Revelry   \n",
       "96   SOAXGDH12A8C13F8A1                  Dog Days Are Over (Radio Edit)   \n",
       "134  SOWCKVR12A8C142411                                    Use Somebody   \n",
       "47   SOKLRPJ12A8C13C3FE                                   The Scientist   \n",
       "28   SOCVTLJ12A6310F0FD                                          Clocks   \n",
       "109  SOXWYZP12AF72A42A6                                     Cosmic Love   \n",
       "5    SOEIBBE12A58A7C909                                      Army of Me   \n",
       "88   SOECDQQ12A6D4FAE07  Pocket Of A Clown (2006 Remastered LP Version)   \n",
       "\n",
       "                artist_name  play_count  \n",
       "0                     Björk        2427  \n",
       "86            Dwight Yoakam        2384  \n",
       "130           Kings Of Leon        1486  \n",
       "96   Florence + The Machine         982  \n",
       "134           Kings Of Leon         435  \n",
       "47                 Coldplay         345  \n",
       "28                 Coldplay         294  \n",
       "109  Florence + The Machine         249  \n",
       "5                     Björk          22  \n",
       "88            Dwight Yoakam           6  "
      ]
     },
     "execution_count": 43,
     "metadata": {},
     "output_type": "execute_result"
    }
   ],
   "source": [
    "# find top songs of these artists\n",
    "\n",
    "artist_top_song = merged_df[merged_df['artist_name'].isin(artist_pop['Artist'])]\n",
    "\n",
    "artist_top_song = artist_top_song[['artist_name','song_id','play_count']].groupby(['artist_name','song_id']).agg({'play_count':'sum'}).reset_index()\n",
    "\n",
    "artist_top_song = artist_top_song.sort_values(by='play_count',ascending=False)\n",
    "\n",
    "# for each of these artist, get top 2 songs \n",
    "artist_top_song = artist_top_song.groupby('artist_name').head(2)\n",
    "\n",
    "artist_top_song['song_name'] = artist_top_song['song_id'].map(song_dict)\n",
    "\n",
    "artist_top_song = artist_top_song[['song_id', 'song_name', 'artist_name', 'play_count']]\n",
    "\n",
    "artist_top_song"
   ]
  },
  {
   "cell_type": "markdown",
   "metadata": {},
   "source": [
    "Now that we have top 5 most play counts and top songs of the top 5 most popular artists: \n",
    "- Some songs id are overlapped, we can put them in table and shuffle them wheneve we make a recommendation for a new user."
   ]
  },
  {
   "cell_type": "code",
   "execution_count": 44,
   "metadata": {},
   "outputs": [],
   "source": [
    "cold_start_recommendation = pd.concat([artist_top_song[['song_id']], top_songs[['song_id']]])\n",
    "\n",
    "cold_start_recommendation = cold_start_recommendation.drop_duplicates()\n",
    "\n",
    "# add song name from song_dict\n",
    "cold_start_recommendation['song'] = cold_start_recommendation['song_id'].map(song_dict)\n"
   ]
  },
  {
   "cell_type": "code",
   "execution_count": 71,
   "metadata": {},
   "outputs": [],
   "source": [
    "# get the list of all artist and their song_id\n",
    "artist_song_dict = merged_df[['artist_name','song_id']].drop_duplicates()\n",
    "\n",
    "artist_song_dict = artist_song_dict.set_index('song_id').to_dict()['artist_name']\n",
    "\n",
    "# add the artist name to the cold_start_recommendation\n",
    "cold_start_recommendation['artist'] = cold_start_recommendation['song_id'].map(artist_song_dict)"
   ]
  },
  {
   "cell_type": "markdown",
   "metadata": {},
   "source": [
    "Now make recommendations for cold start users!"
   ]
  },
  {
   "cell_type": "code",
   "execution_count": 78,
   "metadata": {},
   "outputs": [
    {
     "name": "stdout",
     "output_type": "stream",
     "text": [
      "Welcome to our platform, here are 10 songs you might like: \n",
      "1. You're The One by Dwight Yoakam\n",
      "2. Sehr kosmisch by Harmonia\n",
      "3. Pocket Of A Clown (2006 Remastered LP Version) by Dwight Yoakam\n",
      "4. The Scientist by Coldplay\n",
      "5. Cosmic Love by Florence + The Machine\n",
      "6. Dog Days Are Over (Radio Edit) by Florence + The Machine\n",
      "7. Army of Me by Björk\n",
      "8. Horn Concerto No. 4 in E flat K495: II. Romance (Andante cantabile) by Barry Tuckwell/Academy of St Martin-in-the-Fields/Sir Neville Marriner\n",
      "9. Revelry by Kings Of Leon\n",
      "10. Clocks by Coldplay\n",
      "\n",
      "\n"
     ]
    }
   ],
   "source": [
    "# 10 recommendations for cold start user \n",
    "def cold_start_rec():\n",
    "    rec_songs = cold_start_recommendation.sample(10)\n",
    "    print('Welcome to our platform, here are 10 songs you might like: ')\n",
    "    for i in range(10):\n",
    "        print(f\"{i+1}. {rec_songs.iloc[i]['song']} by {rec_songs.iloc[i]['artist']}\")\n",
    "    print(\"\\n\")\n",
    "    \n",
    "cold_start_rec()"
   ]
  },
  {
   "cell_type": "markdown",
   "metadata": {},
   "source": [
    "`Question 4:` What are your top 10 recommendation for you and your peer? Do the recommendations make sense? What could you do to improve them? Do you think an item based KNN might better"
   ]
  },
  {
   "cell_type": "code",
   "execution_count": 57,
   "metadata": {},
   "outputs": [
    {
     "name": "stdout",
     "output_type": "stream",
     "text": [
      "Top 10 Song Recommendations for : namtr\n",
      "\n",
      "Roly Poly by Bob Wills And His Texas Playboys: 7.8138\n",
      "Stranger by Thousand Foot Krutch: 7.5061\n",
      "A Boy Without A Girl by Frankie Avalon: 7.4376\n",
      "Whiskey_ You're the Devil by The Clancy Brothers: 7.3826\n",
      "August Moon by Ottmar Liebert: 7.3671\n",
      "Smoking Gun by The Robert Cray Band: 7.3220\n",
      "Fingers Become Thumbs by Future Of The Left: 7.2997\n",
      "The Time Is Now by WWE John Cena and Tha Trademarc: 7.2527\n",
      "Enter The Dragon by Charlie Hunter: 7.2341\n",
      "Un Dia Gris by Paulina Rubio: 7.2271\n",
      "\n",
      "\n",
      "Top 10 Song Recommendations for : boshen\n",
      "\n",
      "A Deeper Shade Of Soul by Ray Barretto: 8.1062\n",
      "Un Dia Gris by Paulina Rubio: 7.9366\n",
      "Come Thou Fount Of Every Blessing by Sufjan Stevens: 7.7399\n",
      "Cold Blooded (Acid Cleanse) by The fFormula: 7.6264\n",
      "Two Steps Down by Damnation A.d.: 7.4790\n",
      "Entre Tus Alas by Camila: 7.4741\n",
      "Imaginary Love by Rufus Wainwright: 7.4351\n",
      "Love And Live by Ektomorf: 7.4313\n",
      "Living In The White by Meneguar: 7.4111\n",
      "The Quest by HYPOCRISY: 7.3959\n",
      "\n",
      "\n"
     ]
    }
   ],
   "source": [
    "me_and_peer = ['namtr', 'boshen']\n",
    "\n",
    "for user in me_and_peer:\n",
    "    top_songs = get_top_n_recommendations(user, data, svd_model_tuned, n=10)\n",
    "    print(f\"Top 10 Song Recommendations for : {user}\\n\")\n",
    "    for songs_id, predicted_playcounts in top_songs:\n",
    "        print(f\"{song_dict.get(songs_id)} by {artist_song_dict.get(songs_id)}: {predicted_playcounts:.4f}\")\n",
    "    print(\"\\n\")"
   ]
  },
  {
   "cell_type": "markdown",
   "metadata": {},
   "source": [
    "- Our model's recommendations have been fascinating, as it introduces me to both familiar tunes and genres I rarely explore, which has been a great way to discover new music. Thus, I think the recommendations make sense.\n",
    "\n",
    "- There are a few ways to improve our recommendation system. One way is from the model's optimization perspective. The second way is to improve the recommendation system from the user's perspective. \n",
    "\n",
    "- *From the model's optimization perspective*: we can further fine-tune the hyperparameters of the SVD model, by trying out different cross validation sizes, or attempt to add model features to the model. Additional features might capture important aspects fo the data not reflected in teh original matrix. For instance, incoporating user or item metadata (age, genre, etc) could provide more signals for the model to learn from\n",
    "\n",
    "- *From the user's perspective*: it depends on where the users would like there recommendations to be more personalized or more diverse. If the user prefers more personalized recommendations, we can increase the number of factors in the SVD model so that the model can capture more complex relationships between users and items. On the other hand, decreasing the numeber of latent factors can help users diversify their playlist, get to discover new music taste and artists as model will tend to make broader, less specific recommendations\n",
    "\n",
    "- Item based KNN might not be better our current model due to various reasons. First, KNN is computationally expensive and slow. Second, KNN is not scalable. As the number of users and items grow, the computation time and memory requirements grow dramtically. Third, it is the lack of diversity in the recommendations. KNN tends to recommend the most popular items or items that are similar to the user's most popular items. Thus, it is not effective in helping users discover new music taste and artists that are aligned with their preferences."
   ]
  }
 ],
 "metadata": {
  "kernelspec": {
   "display_name": "Python 3",
   "language": "python",
   "name": "python3"
  },
  "language_info": {
   "codemirror_mode": {
    "name": "ipython",
    "version": 3
   },
   "file_extension": ".py",
   "mimetype": "text/x-python",
   "name": "python",
   "nbconvert_exporter": "python",
   "pygments_lexer": "ipython3",
   "version": "3.11.7"
  }
 },
 "nbformat": 4,
 "nbformat_minor": 4
}
